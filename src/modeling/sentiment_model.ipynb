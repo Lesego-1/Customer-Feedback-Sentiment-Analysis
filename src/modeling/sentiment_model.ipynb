{
 "cells": [
  {
   "cell_type": "code",
   "execution_count": 3,
   "metadata": {},
   "outputs": [],
   "source": [
    "from sklearn.model_selection import train_test_split\n",
    "from sklearn.linear_model import LogisticRegression\n",
    "from sklearn.naive_bayes import MultinomialNB\n",
    "from sklearn.ensemble import RandomForestClassifier\n",
    "from keras.models import  Sequential\n",
    "from keras.layers import LSTM, Dense, Dropout"
   ]
  },
  {
   "cell_type": "code",
   "execution_count": 4,
   "metadata": {},
   "outputs": [],
   "source": [
    "def split_data(X, y):\n",
    "    \"\"\"\n",
    "    Takes X and y variables and splits into train and test data.\n",
    "    Returns X and y train and test data.\n",
    "    \"\"\"\n",
    "    X_train, X_test, y_train, y_test = train_test_split(X, y, random_state=42, train_size=0.75, test_size=0.25) # Split data into train and test\n",
    "    \n",
    "    return X_train, X_test, y_train, y_test"
   ]
  },
  {
   "cell_type": "code",
   "execution_count": 5,
   "metadata": {},
   "outputs": [],
   "source": [
    "def logistic_regression_model(X_train, X_test, y_train):\n",
    "    # Fits train data into logistic regression model and returns the predicted test values.\n",
    "    model = LogisticRegression(random_state=42) # Initialize model\n",
    "    model.fit(X_train, y_train) # Fit train data into model\n",
    "    \n",
    "    y_pred = model.predict(X_test) # Classify text\n",
    "    \n",
    "    return y_pred"
   ]
  },
  {
   "cell_type": "code",
   "execution_count": 6,
   "metadata": {},
   "outputs": [],
   "source": [
    "def naive_bayes_model(X_train, X_test, y_train):\n",
    "    # Fits train data into model and returns predicted values.\n",
    "    model = MultinomialNB() # Intialize model\n",
    "    model.fit(X_train, y_train) # Fit train data into model\n",
    "    \n",
    "    y_pred = model.predict(X_test) # Classify text\n",
    "    \n",
    "    return y_pred"
   ]
  },
  {
   "cell_type": "code",
   "execution_count": 7,
   "metadata": {},
   "outputs": [],
   "source": [
    "def random_forest_model(X_train, X_test, y_train):\n",
    "    # Fits train data into model and returns predicted y values.\n",
    "    model = RandomForestClassifier(random_state=42) # Initialize model\n",
    "    model.fit(X_train, y_train) # Fit train data into model\n",
    "    \n",
    "    y_pred = model.predict(X_test) # Classify text\n",
    "    \n",
    "    return y_pred"
   ]
  },
  {
   "cell_type": "code",
   "execution_count": 8,
   "metadata": {},
   "outputs": [],
   "source": [
    "def lstm_model(X_train, X_test, y_train, y_test):\n",
    "    # Creates an LSTM model and returns the predicted y values.\n",
    "    model = Sequential() # Initialize model\n",
    "    # Add LSTM model\n",
    "    model.add(LSTM(128, input_shape=(X_train.shape[1], X_train.shape[2]), return_sequences=False))\n",
    "    model.add(Dropout(0.5)) # Add dropout layer to prevent overfitting\n",
    "    model.add(Dense(1, activation=\"sigmoid\")) # Output layer\n",
    "    # Compile model\n",
    "    model.compile(optimizer=\"adam\", loss='binary_crossentropy', metrics=['acuracy'])\n",
    "    # Fit the model\n",
    "    model.fit(X_train, y_train, epochs=2, batch_size=64, validation_data=(X_test, y_test))\n",
    "    \n",
    "    y_pred_prob = model.predict(X_test) # Predict probability of positive classification\n",
    "    \n",
    "    y_pred = int((y_pred_prob >= 0.5)) # Get actual classification\n",
    "    \n",
    "    return y_pred\n",
    "    "
   ]
  },
  {
   "cell_type": "code",
   "execution_count": 9,
   "metadata": {},
   "outputs": [],
   "source": [
    "# BERT"
   ]
  }
 ],
 "metadata": {
  "kernelspec": {
   "display_name": "Python 3",
   "language": "python",
   "name": "python3"
  },
  "language_info": {
   "codemirror_mode": {
    "name": "ipython",
    "version": 3
   },
   "file_extension": ".py",
   "mimetype": "text/x-python",
   "name": "python",
   "nbconvert_exporter": "python",
   "pygments_lexer": "ipython3",
   "version": "3.12.2"
  }
 },
 "nbformat": 4,
 "nbformat_minor": 2
}
