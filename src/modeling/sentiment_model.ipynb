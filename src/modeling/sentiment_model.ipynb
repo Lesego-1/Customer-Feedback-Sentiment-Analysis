{
 "cells": [
  {
   "cell_type": "code",
   "execution_count": 6,
   "metadata": {},
   "outputs": [],
   "source": [
    "from sklearn.model_selection import train_test_split\n",
    "from sklearn.linear_model import LogisticRegression\n",
    "from sklearn.naive_bayes import MultinomialNB\n",
    "from sklearn.ensemble import RandomForestClassifier"
   ]
  },
  {
   "cell_type": "code",
   "execution_count": 3,
   "metadata": {},
   "outputs": [],
   "source": [
    "def split_data(X, y):\n",
    "    \"\"\"\n",
    "    Takes X and y variables and splits into train and test data.\n",
    "    Returns X and y train and test data.\n",
    "    \"\"\"\n",
    "    X_train, X_test, y_train, y_test = train_test_split(X, y, random_state=42, train_size=0.75, test_size=0.25) # Split data into train and test\n",
    "    \n",
    "    return X_train, X_test, y_train, y_test"
   ]
  },
  {
   "cell_type": "code",
   "execution_count": 4,
   "metadata": {},
   "outputs": [],
   "source": [
    "def logistic_regression_model(X_train, X_test, y_train):\n",
    "    # Fits train data into logistic regression model and returns the predicted test values.\n",
    "    model = LogisticRegression(random_state=42) # Initialize model\n",
    "    model.fit(X_train, y_train) # Fit train data into model\n",
    "    \n",
    "    y_pred = model.predict(X_test) # Classify text\n",
    "    \n",
    "    return y_pred"
   ]
  },
  {
   "cell_type": "code",
   "execution_count": 5,
   "metadata": {},
   "outputs": [],
   "source": [
    "def naive_bayes_model(X_train, X_test, y_train):\n",
    "    # Fits train data into model and returns predicted values.\n",
    "    model = MultinomialNB() # Intialize model\n",
    "    model.fit(X_train, y_train) # Fit train data into model\n",
    "    \n",
    "    y_pred = model.predict(X_test) # Classify text\n",
    "    \n",
    "    return y_pred"
   ]
  },
  {
   "cell_type": "code",
   "execution_count": 7,
   "metadata": {},
   "outputs": [],
   "source": [
    "def random_forest_model(X_train, X_test, y_train):\n",
    "    # Fits train data into model and returns predicted y values.\n",
    "    model = RandomForestClassifier(random_state=42) # Initialize model\n",
    "    model.fit(X_train, y_train) # Fit train data into model\n",
    "    \n",
    "    y_pred = model.predict(X_test) # Classify text\n",
    "    \n",
    "    return y_pred"
   ]
  },
  {
   "cell_type": "code",
   "execution_count": null,
   "metadata": {},
   "outputs": [],
   "source": [
    "# LSTM"
   ]
  },
  {
   "cell_type": "code",
   "execution_count": null,
   "metadata": {},
   "outputs": [],
   "source": [
    "# BERT"
   ]
  }
 ],
 "metadata": {
  "kernelspec": {
   "display_name": "Python 3",
   "language": "python",
   "name": "python3"
  },
  "language_info": {
   "codemirror_mode": {
    "name": "ipython",
    "version": 3
   },
   "file_extension": ".py",
   "mimetype": "text/x-python",
   "name": "python",
   "nbconvert_exporter": "python",
   "pygments_lexer": "ipython3",
   "version": "3.12.2"
  }
 },
 "nbformat": 4,
 "nbformat_minor": 2
}
