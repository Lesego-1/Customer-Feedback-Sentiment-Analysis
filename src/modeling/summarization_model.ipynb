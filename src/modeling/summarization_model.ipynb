{
 "cells": [
  {
   "cell_type": "code",
   "execution_count": 4,
   "metadata": {},
   "outputs": [],
   "source": [
    "from transformers import BartForConditionalGeneration, BartTokenizer\n",
    "import pandas as pd"
   ]
  },
  {
   "cell_type": "code",
   "execution_count": 2,
   "metadata": {},
   "outputs": [],
   "source": [
    "def bart_model(text):\n",
    "    '''\n",
    "    Uses the BART pre-trained model to summurize text.\n",
    "    Returns the summurized text.'''\n",
    "    # Load BART model and tokenizer\n",
    "    model = BartForConditionalGeneration.from_pretrained('facebook/bart-large-cnn')\n",
    "    tokenizer = BartTokenizer.from_pretrained('facebook/bart-large-cnn')\n",
    "    \n",
    "    inputs = tokenizer([text], max_length=75, return_tensors='tf', truncation=True) # Tokenize input text\n",
    "    summary_ids = model.generate(inputs['input_ids'], max_length=20, min_length=10, length_penalty=2.0, num_beams=4, early_stopping=True) # Generate the summary id's\n",
    "    summary = tokenizer.decode(summary_ids[0], skip_special_tokens=True) # Decode summary id's to get actual summary\n",
    "    \n",
    "    return summary"
   ]
  },
  {
   "cell_type": "code",
   "execution_count": 3,
   "metadata": {},
   "outputs": [],
   "source": [
    "def summarize_text(dataframe, text_col):\n",
    "    # Summurizes text and inserts summarizations into new column in the DataFrame.\n",
    "    dataframe['Summary'] = dataframe[text_col].apply(bart_model)\n",
    "    \n",
    "    return dataframe"
   ]
  }
 ],
 "metadata": {
  "kernelspec": {
   "display_name": "Python 3",
   "language": "python",
   "name": "python3"
  },
  "language_info": {
   "codemirror_mode": {
    "name": "ipython",
    "version": 3
   },
   "file_extension": ".py",
   "mimetype": "text/x-python",
   "name": "python",
   "nbconvert_exporter": "python",
   "pygments_lexer": "ipython3",
   "version": "3.12.2"
  }
 },
 "nbformat": 4,
 "nbformat_minor": 2
}
