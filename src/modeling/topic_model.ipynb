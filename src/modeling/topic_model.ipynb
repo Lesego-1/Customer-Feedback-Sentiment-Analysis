{
 "cells": [
  {
   "cell_type": "code",
   "execution_count": 2,
   "metadata": {},
   "outputs": [],
   "source": [
    "from gensim.models import LdaModel\n",
    "from gensim import corpora"
   ]
  },
  {
   "cell_type": "code",
   "execution_count": 3,
   "metadata": {},
   "outputs": [],
   "source": [
    "def topic_distribution_to_vector(topic_dist, num_topics):\n",
    "    \"\"\"\n",
    "    Converts topic distribution to a fixed sized vector.\n",
    "    The vector will contain the topics represented by indexes and the values will be thier probabilities.\n",
    "    Returns the vector.\n",
    "    \"\"\"\n",
    "    vector = [0] * num_topics # Declare the vector to be the size of num_topics\n",
    "    for topic, prob in topic_dist:\n",
    "        vector[topic] = prob\n",
    "    return vector\n",
    "\n",
    "def LDA(tokens):\n",
    "    \"\"\"\n",
    "    Trains an LDA Topic Model and returns a dictionary of the topic id's and the top 5 words per topic.\n",
    "    \"\"\"\n",
    "    # Set dictionary and corpus for LDA\n",
    "    dictionary = corpora.Dictionary(tokens)\n",
    "    corpus = [dictionary.doc2bow(text) for text in tokens] # Convert tokens into bag of words format\n",
    "    \n",
    "    num_topics = 2\n",
    "    model = LdaModel(corpus=corpus, id2word=dictionary, num_topics=num_topics, random_state=42) # Initialize model\n",
    "    topic_features = [model.get_document_topics(bow) for bow in corpus] # Get topic distributions\n",
    "    \n",
    "    top_words_per_topic = model.show_topics(num_topics=num_topics, num_words=5, formatted=False) # Get top 5 words per topic\n",
    "    \n",
    "    result = {} # Define dictionary to store result\n",
    "    \n",
    "    # Store topic id and words in result\n",
    "    for topic_id, words in top_words_per_topic:\n",
    "        result[topic_id] = words\n",
    "        \n",
    "    return result"
   ]
  }
 ],
 "metadata": {
  "kernelspec": {
   "display_name": "Python 3",
   "language": "python",
   "name": "python3"
  },
  "language_info": {
   "codemirror_mode": {
    "name": "ipython",
    "version": 3
   },
   "file_extension": ".py",
   "mimetype": "text/x-python",
   "name": "python",
   "nbconvert_exporter": "python",
   "pygments_lexer": "ipython3",
   "version": "3.12.2"
  }
 },
 "nbformat": 4,
 "nbformat_minor": 2
}
