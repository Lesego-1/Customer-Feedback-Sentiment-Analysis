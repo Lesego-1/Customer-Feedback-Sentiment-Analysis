{
 "cells": [
  {
   "cell_type": "code",
   "execution_count": 24,
   "metadata": {},
   "outputs": [],
   "source": [
    "import pandas as pd\n",
    "import re\n",
    "from langdetect import detect, DetectorFactory\n",
    "import spacy"
   ]
  },
  {
   "cell_type": "code",
   "execution_count": 25,
   "metadata": {},
   "outputs": [],
   "source": [
    "# Filter only English Reviews\n",
    "\n",
    "DetectorFactory.seed = 0 # Ensure consistent results\n",
    "\n",
    "def is_english(text):\n",
    "    # Checks if a text is English or not. Returns True if it is English, False if otherwise.\n",
    "    try:\n",
    "        return detect(text) == \"en\" # Checks if text is English\n",
    "    except:\n",
    "        return False # In case of error such as empty string\n",
    "\n",
    "def filter_english(dataframe, text_col):\n",
    "    \"\"\"\n",
    "    Filters out any rows that contain Non-English language.\n",
    "    \"\"\"\n",
    "    dataframe['is_english'] = dataframe[text_col].apply(is_english) # Create new boolean column to classify if the text is english\n",
    "    english_df = dataframe[dataframe['is_english']] # New DataFrame that only has rows with english values\n",
    "    \n",
    "    english_df = english_df.drop(columns=[\"is_english\"]) # Drop is_english column\n",
    "    \n",
    "    return english_df"
   ]
  },
  {
   "cell_type": "code",
   "execution_count": 26,
   "metadata": {},
   "outputs": [],
   "source": [
    "# Text Cleaning and Regular Expression\n",
    "def regex(text):\n",
    "    \"\"\"\n",
    "    Applies regular expression to a text to remove punctuation marks\n",
    "    \"\"\"\n",
    "    text = re.sub(r'[^\\w\\s]', \"\", text) # Replace punctuation marks with empty string\n",
    "    text = re.sub(r'[\\s+]', \" \", text) # Replace multiple spaces with one space\n",
    "    \n",
    "    return text.strip()\n",
    "    \n",
    "def clean_text(dataframe, text_col):\n",
    "    \"\"\"\n",
    "    Ensures data is consistent and removes punctuation for better model performance.\n",
    "    \"\"\"\n",
    "    dataframe = dataframe.dropna(subset=[text_col]) # Remove rows with missing values in text column\n",
    "    \n",
    "    dataframe[text_col] = dataframe[text_col].apply(regex) # Remove punctuation marks\n",
    "    \n",
    "    return dataframe"
   ]
  },
  {
   "cell_type": "code",
   "execution_count": 27,
   "metadata": {},
   "outputs": [],
   "source": [
    "# Tokenizaton\n",
    "def tokenize(text):\n",
    "    # Tokenizes a text and returns the tokens\n",
    "    \n",
    "    nlp = spacy.load(\"en_core_web_sm\") # Create NLP Pipeline\n",
    "    \n",
    "    doc = nlp(text) # Process the text\n",
    "    tokens = [token.text for token in doc] # Stores the tokens\n",
    "    \n",
    "    return tokens\n",
    "\n",
    "def tokenize_words(dataframe, text_col):\n",
    "    \"\"\"\n",
    "    Tokenizes every row in the text column down. Creates a new column containing tokenized words.\n",
    "    Returns the new DataFrame.\n",
    "    \"\"\"\n",
    "    dataframe[\"tokenized_words\"] = dataframe[text_col].apply(tokenize) # Tokenize words and add to new column\n",
    "    \n",
    "    return dataframe"
   ]
  },
  {
   "cell_type": "code",
   "execution_count": 28,
   "metadata": {},
   "outputs": [],
   "source": [
    "# Stop Word Removal\n",
    "def stop_word_filter(tokens):\n",
    "    # Removes stop words from an array of tokens and returns the filtered tokens\n",
    "    nlp = spacy.load(\"en_core_web_sm\") # Create NLP Pipeline\n",
    "    stop_words = nlp.Defaults.stop_words # Create a list of stop words\n",
    "    \n",
    "    filtered_tokens = [token for token in tokens if token.lower() not in stop_words] # Remove stop words\n",
    "    \n",
    "    return filtered_tokens\n",
    "\n",
    "def remove_stop_words(dataframe, token_col):\n",
    "    \"\"\"\n",
    "    Removes stop words from tokens array and returns the DataFrame.\n",
    "    \"\"\"\n",
    "    dataframe[token_col] = dataframe[token_col].apply(stop_word_filter)\n",
    "    \n",
    "    return dataframe"
   ]
  },
  {
   "cell_type": "code",
   "execution_count": 29,
   "metadata": {},
   "outputs": [],
   "source": [
    "# Lemmatization\n",
    "def lemmatize(tokens):\n",
    "    \"\"\"\n",
    "    Lemmatizes the text and returns the lemmatized words.\n",
    "    \"\"\"\n",
    "    nlp = spacy.load(\"en_core_web_sm\") # Create NLP Pipeline\n",
    "    \n",
    "    text = \" \".join(tokens) # Create a text version of the tokens\n",
    "    doc = nlp(text) # Process the text\n",
    "    lemmatized_tokens = [token.lemma_ for token in doc]\n",
    "    \n",
    "    return lemmatized_tokens\n",
    "\n",
    "def lemmatize_tokens(dataframe, token_col):\n",
    "    \"\"\"\n",
    "    Lemmatizes the tokens in the token column and returns the DataFrame.\n",
    "    \"\"\"\n",
    "    dataframe[token_col] = dataframe[token_col].apply(lemmatize)\n",
    "    \n",
    "    return dataframe"
   ]
  },
  {
   "cell_type": "code",
   "execution_count": 30,
   "metadata": {},
   "outputs": [],
   "source": [
    "# Vectorization\n",
    "def vectorize_tokens(tokens):\n",
    "    # Vectorizes the array of tokens and returns the array of vectors.\n",
    "    nlp = spacy.load(\"en_core_web_lg\") # Create NLP Pipeline\n",
    "    \n",
    "    text = \" \".join(tokens) # Create a text version of the tokens\n",
    "    doc = nlp(text) # Process the text\n",
    "    \n",
    "    vectorized_tokens = [doc.vector] # Vectorize tokens and insert into a list\n",
    "    \n",
    "    return vectorized_tokens\n",
    "    \n",
    "def vectorize(dataframe, token_col):\n",
    "    \"\"\"\n",
    "    Takes tokens and provides a new column containing their vectors. \n",
    "    Returns the DataFrame.\n",
    "    \"\"\"\n",
    "    nlp = spacy.load(\"en_core_web_lg\") # Create NLP Pipeline\n",
    "    \n",
    "    dataframe[\"Vectors\"] = dataframe[token_col].apply(vectorize_tokens) # Vectorize tokens and add to Vectors column\n",
    "    \n",
    "    return dataframe"
   ]
  }
 ],
 "metadata": {
  "kernelspec": {
   "display_name": "Python 3",
   "language": "python",
   "name": "python3"
  },
  "language_info": {
   "codemirror_mode": {
    "name": "ipython",
    "version": 3
   },
   "file_extension": ".py",
   "mimetype": "text/x-python",
   "name": "python",
   "nbconvert_exporter": "python",
   "pygments_lexer": "ipython3",
   "version": "3.12.2"
  }
 },
 "nbformat": 4,
 "nbformat_minor": 2
}
