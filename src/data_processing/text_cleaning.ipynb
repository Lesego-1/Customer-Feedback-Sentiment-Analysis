{
 "cells": [
  {
   "cell_type": "code",
   "execution_count": 6,
   "metadata": {},
   "outputs": [],
   "source": [
    "import pandas as pd\n",
    "import re"
   ]
  },
  {
   "cell_type": "code",
   "execution_count": 7,
   "metadata": {},
   "outputs": [],
   "source": [
    "# Text Cleaning and Regular Expression\n",
    "def regex(text):\n",
    "    \"\"\"\n",
    "    Applies regular expression to a text to remove punctuation marks\n",
    "    \"\"\"\n",
    "    text = re.sub(r'[^\\w\\s]', \"\", text) # Replace punctuation marks with empty string\n",
    "    text = re.sub(r'[\\s+]', \" \", text) # Replace multiple spaces with one space\n",
    "    \n",
    "    return text.strip()\n",
    "    \n",
    "def clean_text(dataframe, text_col):\n",
    "    \"\"\"\n",
    "    Ensures data is consistent and removes punctuation for better model performance.\n",
    "    \"\"\"\n",
    "    df = pd.read_csv(dataframe) # Initialize DataFrame\n",
    "    \n",
    "    df = df.drop(df.duplicated) # Remove Duplicated rows\n",
    "    df = df.dropna(subset=[text_col]) # Remove rows with missing values in text column\n",
    "    \n",
    "    df[text_col] = df[text_col].apply(regex) # Remove punctuation marks\n",
    "    \n",
    "    return df"
   ]
  },
  {
   "cell_type": "code",
   "execution_count": null,
   "metadata": {},
   "outputs": [],
   "source": [
    "# Tokenizaton"
   ]
  },
  {
   "cell_type": "code",
   "execution_count": null,
   "metadata": {},
   "outputs": [],
   "source": [
    "# Stop Word Removal"
   ]
  },
  {
   "cell_type": "code",
   "execution_count": null,
   "metadata": {},
   "outputs": [],
   "source": [
    "# Lemmatization"
   ]
  },
  {
   "cell_type": "code",
   "execution_count": null,
   "metadata": {},
   "outputs": [],
   "source": [
    "# Vectorization"
   ]
  }
 ],
 "metadata": {
  "kernelspec": {
   "display_name": "Python 3",
   "language": "python",
   "name": "python3"
  },
  "language_info": {
   "codemirror_mode": {
    "name": "ipython",
    "version": 3
   },
   "file_extension": ".py",
   "mimetype": "text/x-python",
   "name": "python",
   "nbconvert_exporter": "python",
   "pygments_lexer": "ipython3",
   "version": "3.12.2"
  }
 },
 "nbformat": 4,
 "nbformat_minor": 2
}
