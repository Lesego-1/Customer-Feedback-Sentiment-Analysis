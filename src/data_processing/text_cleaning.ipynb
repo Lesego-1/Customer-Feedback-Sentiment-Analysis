{
 "cells": [
  {
   "cell_type": "code",
   "execution_count": 9,
   "metadata": {},
   "outputs": [],
   "source": [
    "import pandas as pd\n",
    "import re\n",
    "from langdetect import detect, DetectorFactory"
   ]
  },
  {
   "cell_type": "code",
   "execution_count": 10,
   "metadata": {},
   "outputs": [],
   "source": [
    "# Filter only English Reviews\n",
    "\n",
    "DetectorFactory.seed = 0 # Ensure consistent results\n",
    "\n",
    "def is_english(text):\n",
    "    # Checks if a text is English or not. Returns True if it is English, False if otherwise.\n",
    "    try:\n",
    "        return detect(text) == \"en\" # Checks if text is English\n",
    "    except:\n",
    "        return False # In case of error such as empty string\n",
    "\n",
    "def filter_english(dataframe, text_col):\n",
    "    \"\"\"\n",
    "    Filters out any rows that contain Non-English language.\n",
    "    \"\"\"\n",
    "    dataframe['is_english'] = dataframe[text_col].apply(is_english) # Create new boolean column to classify if the text is english\n",
    "    english_df = dataframe[dataframe['is_english']] # New DataFrame that only has rows with english values\n",
    "    \n",
    "    english_df = english_df.drop(columns=[\"is_english\"]) # Drop is_english column\n",
    "    \n",
    "    return english_df"
   ]
  },
  {
   "cell_type": "code",
   "execution_count": 7,
   "metadata": {},
   "outputs": [],
   "source": [
    "# Text Cleaning and Regular Expression\n",
    "def regex(text):\n",
    "    \"\"\"\n",
    "    Applies regular expression to a text to remove punctuation marks\n",
    "    \"\"\"\n",
    "    text = re.sub(r'[^\\w\\s]', \"\", text) # Replace punctuation marks with empty string\n",
    "    text = re.sub(r'[\\s+]', \" \", text) # Replace multiple spaces with one space\n",
    "    \n",
    "    return text.strip()\n",
    "    \n",
    "def clean_text(dataframe, text_col):\n",
    "    \"\"\"\n",
    "    Ensures data is consistent and removes punctuation for better model performance.\n",
    "    \"\"\"\n",
    "    df = pd.read_csv(dataframe) # Initialize DataFrame\n",
    "    \n",
    "    df = df.drop(df.duplicated) # Remove Duplicated rows\n",
    "    df = df.dropna(subset=[text_col]) # Remove rows with missing values in text column\n",
    "    \n",
    "    df[text_col] = df[text_col].apply(regex) # Remove punctuation marks\n",
    "    \n",
    "    return df"
   ]
  },
  {
   "cell_type": "code",
   "execution_count": null,
   "metadata": {},
   "outputs": [],
   "source": [
    "# Tokenizaton"
   ]
  },
  {
   "cell_type": "code",
   "execution_count": null,
   "metadata": {},
   "outputs": [],
   "source": [
    "# Stop Word Removal"
   ]
  },
  {
   "cell_type": "code",
   "execution_count": null,
   "metadata": {},
   "outputs": [],
   "source": [
    "# Lemmatization"
   ]
  },
  {
   "cell_type": "code",
   "execution_count": null,
   "metadata": {},
   "outputs": [],
   "source": [
    "# Vectorization"
   ]
  }
 ],
 "metadata": {
  "kernelspec": {
   "display_name": "Python 3",
   "language": "python",
   "name": "python3"
  },
  "language_info": {
   "codemirror_mode": {
    "name": "ipython",
    "version": 3
   },
   "file_extension": ".py",
   "mimetype": "text/x-python",
   "name": "python",
   "nbconvert_exporter": "python",
   "pygments_lexer": "ipython3",
   "version": "3.12.2"
  }
 },
 "nbformat": 4,
 "nbformat_minor": 2
}
